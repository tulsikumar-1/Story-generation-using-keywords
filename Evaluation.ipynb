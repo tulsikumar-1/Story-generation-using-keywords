{
  "cells": [
    {
      "cell_type": "code",
      "execution_count": null,
      "metadata": {
        "id": "MW4i1iO-kN_J",
        "colab": {
          "base_uri": "https://localhost:8080/"
        },
        "outputId": "9bfc6720-5799-4d1a-b17c-cba5ffb51bec"
      },
      "outputs": [
        {
          "output_type": "stream",
          "name": "stdout",
          "text": [
            "Drive already mounted at /content/drive; to attempt to forcibly remount, call drive.mount(\"/content/drive\", force_remount=True).\n"
          ]
        }
      ],
      "source": [
        "import os\n",
        "import pandas as pd\n",
        "import numpy as np\n",
        "from google.colab import drive\n",
        "drive.mount('/content/drive')"
      ]
    },
    {
      "cell_type": "code",
      "execution_count": null,
      "metadata": {
        "id": "K34viFapkRfZ"
      },
      "outputs": [],
      "source": [
        "import os\n",
        "path= '/content/drive/MyDrive/news dataset/children stories/scraped/'\n",
        "os.chdir(path)"
      ]
    },
    {
      "cell_type": "code",
      "execution_count": null,
      "metadata": {
        "id": "zQzHa2A9kRdA"
      },
      "outputs": [],
      "source": [
        "train_df = pd.read_csv('dataset_with_keys_30a.csv')"
      ]
    },
    {
      "cell_type": "code",
      "execution_count": null,
      "metadata": {
        "colab": {
          "base_uri": "https://localhost:8080/",
          "height": 580
        },
        "id": "M20E2C-KM82D",
        "outputId": "373b93c1-ee74-4ae4-ebbb-40dfee12ffec"
      },
      "outputs": [
        {
          "output_type": "execute_result",
          "data": {
            "text/plain": [
              "                                  title  \\\n",
              "0                   On the go with Zibo   \n",
              "1                   A Walk in the Woods   \n",
              "2  A penguin, A black egg and an island   \n",
              "3                       To the Princess   \n",
              "4                    The Ultimate Quest   \n",
              "5            The Crossbow of the Wizard   \n",
              "6             Harry's magic pirate ship   \n",
              "7                               PUGSLEY   \n",
              "8                      Jenny's Surprise   \n",
              "9                   The Wild West Chase   \n",
              "\n",
              "                                               story      class  \\\n",
              "0  zibo is a little zebra. you know what a zebra ...  adventure   \n",
              "1  he tapped the surface of the pool with the for...  adventure   \n",
              "2  at dawn i heard a knock on the door, it was sa...  adventure   \n",
              "3  some years ago, i was a young man and i was on...  adventure   \n",
              "4  urrggh, owen grunted, he was in the castle doi...  adventure   \n",
              "5  my name is corrin, the warriorhero of my natio...  adventure   \n",
              "6  harrys magic pirate ship, there was once a lit...  adventure   \n",
              "7   , joe liked hikes. and this one was going to ...  adventure   \n",
              "8  this is jenny.  jenny lives in a pretty red ho...  adventure   \n",
              "9  now what? asked ivy as she buried her head ins...  adventure   \n",
              "\n",
              "                                                 url  \\\n",
              "0       https://www.bedtime.com/on-the-go-with-zibo/   \n",
              "1       https://www.bedtime.com/a-walk-in-the-woods/   \n",
              "2  https://www.bedtime.com/a-penguin-a-island-and...   \n",
              "3           https://www.bedtime.com/to-the-princess/   \n",
              "4        https://www.bedtime.com/the-ultimate-quest/   \n",
              "5  https://www.bedtime.com/the-crossbow-of-the-wi...   \n",
              "6  https://www.bedtime.com/harrys-magic-pirate-ship/   \n",
              "7                   https://www.bedtime.com/pugsley/   \n",
              "8           https://www.bedtime.com/jennys-surprise/   \n",
              "9       https://www.bedtime.com/the-wild-west-chase/   \n",
              "\n",
              "                                            keywords  \\\n",
              "0  ['zibo', 'animal', 'give', 'zebra', 'cow', 'st...   \n",
              "1  ['tapped the surface', 'mother', 'back', 'mud'...   \n",
              "2  ['leo', 'dread clear dragon', 'princess laytin...   \n",
              "3  ['tim', 'dark lords', 'ill', 'james', 'dark', ...   \n",
              "4  ['owen', 'chippie', 'bolin', 'asked owen', 'br...   \n",
              "5  ['ragnarok', 'sans', 'dread spell', 'electrani...   \n",
              "6  ['pirate ship', 'ship', 'pirate', 'harry', 'gr...   \n",
              "7  ['joe', 'pastor maxwell', 'maxwell', 'pugsley'...   \n",
              "8  ['jenny', 'carol', 'ducks', 'basket', 'carol.'...   \n",
              "9  ['ivy', 'karen', 'horses', 'rifle', 'back', 'j...   \n",
              "\n",
              "                                          key_scores  \n",
              "0  [0.025387348146749516, 0.09251316835653439, 0....  \n",
              "1  [0.027205449786734906, 0.08402403176673347, 0....  \n",
              "2  [0.019581578541566145, 0.031555784992482, 0.03...  \n",
              "3  [0.010967980872248788, 0.02461408568559992, 0....  \n",
              "4  [0.005754948475371684, 0.01732583333168135, 0....  \n",
              "5  [0.026467812207965406, 0.05747927504750636, 0....  \n",
              "6  [0.00251343500247789, 0.007691822199021019, 0....  \n",
              "7  [0.010544564386321037, 0.019892467037892263, 0...  \n",
              "8  [0.02878686262803785, 0.05881630101724026, 0.0...  \n",
              "9  [0.013279730197117421, 0.014956584019622283, 0...  "
            ],
            "text/html": [
              "\n",
              "  <div id=\"df-6253a4a9-5579-4d98-86b3-283669b73502\">\n",
              "    <div class=\"colab-df-container\">\n",
              "      <div>\n",
              "<style scoped>\n",
              "    .dataframe tbody tr th:only-of-type {\n",
              "        vertical-align: middle;\n",
              "    }\n",
              "\n",
              "    .dataframe tbody tr th {\n",
              "        vertical-align: top;\n",
              "    }\n",
              "\n",
              "    .dataframe thead th {\n",
              "        text-align: right;\n",
              "    }\n",
              "</style>\n",
              "<table border=\"1\" class=\"dataframe\">\n",
              "  <thead>\n",
              "    <tr style=\"text-align: right;\">\n",
              "      <th></th>\n",
              "      <th>title</th>\n",
              "      <th>story</th>\n",
              "      <th>class</th>\n",
              "      <th>url</th>\n",
              "      <th>keywords</th>\n",
              "      <th>key_scores</th>\n",
              "    </tr>\n",
              "  </thead>\n",
              "  <tbody>\n",
              "    <tr>\n",
              "      <th>0</th>\n",
              "      <td>On the go with Zibo</td>\n",
              "      <td>zibo is a little zebra. you know what a zebra ...</td>\n",
              "      <td>adventure</td>\n",
              "      <td>https://www.bedtime.com/on-the-go-with-zibo/</td>\n",
              "      <td>['zibo', 'animal', 'give', 'zebra', 'cow', 'st...</td>\n",
              "      <td>[0.025387348146749516, 0.09251316835653439, 0....</td>\n",
              "    </tr>\n",
              "    <tr>\n",
              "      <th>1</th>\n",
              "      <td>A Walk in the Woods</td>\n",
              "      <td>he tapped the surface of the pool with the for...</td>\n",
              "      <td>adventure</td>\n",
              "      <td>https://www.bedtime.com/a-walk-in-the-woods/</td>\n",
              "      <td>['tapped the surface', 'mother', 'back', 'mud'...</td>\n",
              "      <td>[0.027205449786734906, 0.08402403176673347, 0....</td>\n",
              "    </tr>\n",
              "    <tr>\n",
              "      <th>2</th>\n",
              "      <td>A penguin, A black egg and an island</td>\n",
              "      <td>at dawn i heard a knock on the door, it was sa...</td>\n",
              "      <td>adventure</td>\n",
              "      <td>https://www.bedtime.com/a-penguin-a-island-and...</td>\n",
              "      <td>['leo', 'dread clear dragon', 'princess laytin...</td>\n",
              "      <td>[0.019581578541566145, 0.031555784992482, 0.03...</td>\n",
              "    </tr>\n",
              "    <tr>\n",
              "      <th>3</th>\n",
              "      <td>To the Princess</td>\n",
              "      <td>some years ago, i was a young man and i was on...</td>\n",
              "      <td>adventure</td>\n",
              "      <td>https://www.bedtime.com/to-the-princess/</td>\n",
              "      <td>['tim', 'dark lords', 'ill', 'james', 'dark', ...</td>\n",
              "      <td>[0.010967980872248788, 0.02461408568559992, 0....</td>\n",
              "    </tr>\n",
              "    <tr>\n",
              "      <th>4</th>\n",
              "      <td>The Ultimate Quest</td>\n",
              "      <td>urrggh, owen grunted, he was in the castle doi...</td>\n",
              "      <td>adventure</td>\n",
              "      <td>https://www.bedtime.com/the-ultimate-quest/</td>\n",
              "      <td>['owen', 'chippie', 'bolin', 'asked owen', 'br...</td>\n",
              "      <td>[0.005754948475371684, 0.01732583333168135, 0....</td>\n",
              "    </tr>\n",
              "    <tr>\n",
              "      <th>5</th>\n",
              "      <td>The Crossbow of the Wizard</td>\n",
              "      <td>my name is corrin, the warriorhero of my natio...</td>\n",
              "      <td>adventure</td>\n",
              "      <td>https://www.bedtime.com/the-crossbow-of-the-wi...</td>\n",
              "      <td>['ragnarok', 'sans', 'dread spell', 'electrani...</td>\n",
              "      <td>[0.026467812207965406, 0.05747927504750636, 0....</td>\n",
              "    </tr>\n",
              "    <tr>\n",
              "      <th>6</th>\n",
              "      <td>Harry's magic pirate ship</td>\n",
              "      <td>harrys magic pirate ship, there was once a lit...</td>\n",
              "      <td>adventure</td>\n",
              "      <td>https://www.bedtime.com/harrys-magic-pirate-ship/</td>\n",
              "      <td>['pirate ship', 'ship', 'pirate', 'harry', 'gr...</td>\n",
              "      <td>[0.00251343500247789, 0.007691822199021019, 0....</td>\n",
              "    </tr>\n",
              "    <tr>\n",
              "      <th>7</th>\n",
              "      <td>PUGSLEY</td>\n",
              "      <td>, joe liked hikes. and this one was going to ...</td>\n",
              "      <td>adventure</td>\n",
              "      <td>https://www.bedtime.com/pugsley/</td>\n",
              "      <td>['joe', 'pastor maxwell', 'maxwell', 'pugsley'...</td>\n",
              "      <td>[0.010544564386321037, 0.019892467037892263, 0...</td>\n",
              "    </tr>\n",
              "    <tr>\n",
              "      <th>8</th>\n",
              "      <td>Jenny's Surprise</td>\n",
              "      <td>this is jenny.  jenny lives in a pretty red ho...</td>\n",
              "      <td>adventure</td>\n",
              "      <td>https://www.bedtime.com/jennys-surprise/</td>\n",
              "      <td>['jenny', 'carol', 'ducks', 'basket', 'carol.'...</td>\n",
              "      <td>[0.02878686262803785, 0.05881630101724026, 0.0...</td>\n",
              "    </tr>\n",
              "    <tr>\n",
              "      <th>9</th>\n",
              "      <td>The Wild West Chase</td>\n",
              "      <td>now what? asked ivy as she buried her head ins...</td>\n",
              "      <td>adventure</td>\n",
              "      <td>https://www.bedtime.com/the-wild-west-chase/</td>\n",
              "      <td>['ivy', 'karen', 'horses', 'rifle', 'back', 'j...</td>\n",
              "      <td>[0.013279730197117421, 0.014956584019622283, 0...</td>\n",
              "    </tr>\n",
              "  </tbody>\n",
              "</table>\n",
              "</div>\n",
              "      <button class=\"colab-df-convert\" onclick=\"convertToInteractive('df-6253a4a9-5579-4d98-86b3-283669b73502')\"\n",
              "              title=\"Convert this dataframe to an interactive table.\"\n",
              "              style=\"display:none;\">\n",
              "        \n",
              "  <svg xmlns=\"http://www.w3.org/2000/svg\" height=\"24px\"viewBox=\"0 0 24 24\"\n",
              "       width=\"24px\">\n",
              "    <path d=\"M0 0h24v24H0V0z\" fill=\"none\"/>\n",
              "    <path d=\"M18.56 5.44l.94 2.06.94-2.06 2.06-.94-2.06-.94-.94-2.06-.94 2.06-2.06.94zm-11 1L8.5 8.5l.94-2.06 2.06-.94-2.06-.94L8.5 2.5l-.94 2.06-2.06.94zm10 10l.94 2.06.94-2.06 2.06-.94-2.06-.94-.94-2.06-.94 2.06-2.06.94z\"/><path d=\"M17.41 7.96l-1.37-1.37c-.4-.4-.92-.59-1.43-.59-.52 0-1.04.2-1.43.59L10.3 9.45l-7.72 7.72c-.78.78-.78 2.05 0 2.83L4 21.41c.39.39.9.59 1.41.59.51 0 1.02-.2 1.41-.59l7.78-7.78 2.81-2.81c.8-.78.8-2.07 0-2.86zM5.41 20L4 18.59l7.72-7.72 1.47 1.35L5.41 20z\"/>\n",
              "  </svg>\n",
              "      </button>\n",
              "      \n",
              "  <style>\n",
              "    .colab-df-container {\n",
              "      display:flex;\n",
              "      flex-wrap:wrap;\n",
              "      gap: 12px;\n",
              "    }\n",
              "\n",
              "    .colab-df-convert {\n",
              "      background-color: #E8F0FE;\n",
              "      border: none;\n",
              "      border-radius: 50%;\n",
              "      cursor: pointer;\n",
              "      display: none;\n",
              "      fill: #1967D2;\n",
              "      height: 32px;\n",
              "      padding: 0 0 0 0;\n",
              "      width: 32px;\n",
              "    }\n",
              "\n",
              "    .colab-df-convert:hover {\n",
              "      background-color: #E2EBFA;\n",
              "      box-shadow: 0px 1px 2px rgba(60, 64, 67, 0.3), 0px 1px 3px 1px rgba(60, 64, 67, 0.15);\n",
              "      fill: #174EA6;\n",
              "    }\n",
              "\n",
              "    [theme=dark] .colab-df-convert {\n",
              "      background-color: #3B4455;\n",
              "      fill: #D2E3FC;\n",
              "    }\n",
              "\n",
              "    [theme=dark] .colab-df-convert:hover {\n",
              "      background-color: #434B5C;\n",
              "      box-shadow: 0px 1px 3px 1px rgba(0, 0, 0, 0.15);\n",
              "      filter: drop-shadow(0px 1px 2px rgba(0, 0, 0, 0.3));\n",
              "      fill: #FFFFFF;\n",
              "    }\n",
              "  </style>\n",
              "\n",
              "      <script>\n",
              "        const buttonEl =\n",
              "          document.querySelector('#df-6253a4a9-5579-4d98-86b3-283669b73502 button.colab-df-convert');\n",
              "        buttonEl.style.display =\n",
              "          google.colab.kernel.accessAllowed ? 'block' : 'none';\n",
              "\n",
              "        async function convertToInteractive(key) {\n",
              "          const element = document.querySelector('#df-6253a4a9-5579-4d98-86b3-283669b73502');\n",
              "          const dataTable =\n",
              "            await google.colab.kernel.invokeFunction('convertToInteractive',\n",
              "                                                     [key], {});\n",
              "          if (!dataTable) return;\n",
              "\n",
              "          const docLinkHtml = 'Like what you see? Visit the ' +\n",
              "            '<a target=\"_blank\" href=https://colab.research.google.com/notebooks/data_table.ipynb>data table notebook</a>'\n",
              "            + ' to learn more about interactive tables.';\n",
              "          element.innerHTML = '';\n",
              "          dataTable['output_type'] = 'display_data';\n",
              "          await google.colab.output.renderOutput(dataTable, element);\n",
              "          const docLink = document.createElement('div');\n",
              "          docLink.innerHTML = docLinkHtml;\n",
              "          element.appendChild(docLink);\n",
              "        }\n",
              "      </script>\n",
              "    </div>\n",
              "  </div>\n",
              "  "
            ]
          },
          "metadata": {},
          "execution_count": 6
        }
      ],
      "source": [
        "train_df[:10]"
      ]
    },
    {
      "cell_type": "code",
      "execution_count": null,
      "metadata": {
        "colab": {
          "base_uri": "https://localhost:8080/"
        },
        "id": "7roin5AO_FmE",
        "outputId": "43487674-3e18-4d0e-d579-80329a6c8155"
      },
      "outputs": [
        {
          "output_type": "execute_result",
          "data": {
            "text/plain": [
              "13"
            ]
          },
          "metadata": {},
          "execution_count": 7
        }
      ],
      "source": [
        "len(np.unique(train_df['class']))"
      ]
    },
    {
      "cell_type": "code",
      "execution_count": null,
      "metadata": {
        "colab": {
          "base_uri": "https://localhost:8080/"
        },
        "id": "2_purJhpRdmm",
        "outputId": "832228f3-491a-4f15-90bb-32e6c6720183"
      },
      "outputs": [
        {
          "output_type": "stream",
          "name": "stdout",
          "text": [
            "Looking in indexes: https://pypi.org/simple, https://us-python.pkg.dev/colab-wheels/public/simple/\n",
            "Requirement already satisfied: transformers in /usr/local/lib/python3.10/dist-packages (4.29.1)\n",
            "Requirement already satisfied: filelock in /usr/local/lib/python3.10/dist-packages (from transformers) (3.12.0)\n",
            "Requirement already satisfied: huggingface-hub<1.0,>=0.14.1 in /usr/local/lib/python3.10/dist-packages (from transformers) (0.14.1)\n",
            "Requirement already satisfied: numpy>=1.17 in /usr/local/lib/python3.10/dist-packages (from transformers) (1.22.4)\n",
            "Requirement already satisfied: packaging>=20.0 in /usr/local/lib/python3.10/dist-packages (from transformers) (23.1)\n",
            "Requirement already satisfied: pyyaml>=5.1 in /usr/local/lib/python3.10/dist-packages (from transformers) (6.0)\n",
            "Requirement already satisfied: regex!=2019.12.17 in /usr/local/lib/python3.10/dist-packages (from transformers) (2022.10.31)\n",
            "Requirement already satisfied: requests in /usr/local/lib/python3.10/dist-packages (from transformers) (2.27.1)\n",
            "Requirement already satisfied: tokenizers!=0.11.3,<0.14,>=0.11.1 in /usr/local/lib/python3.10/dist-packages (from transformers) (0.13.3)\n",
            "Requirement already satisfied: tqdm>=4.27 in /usr/local/lib/python3.10/dist-packages (from transformers) (4.65.0)\n",
            "Requirement already satisfied: fsspec in /usr/local/lib/python3.10/dist-packages (from huggingface-hub<1.0,>=0.14.1->transformers) (2023.4.0)\n",
            "Requirement already satisfied: typing-extensions>=3.7.4.3 in /usr/local/lib/python3.10/dist-packages (from huggingface-hub<1.0,>=0.14.1->transformers) (4.5.0)\n",
            "Requirement already satisfied: urllib3<1.27,>=1.21.1 in /usr/local/lib/python3.10/dist-packages (from requests->transformers) (1.26.15)\n",
            "Requirement already satisfied: certifi>=2017.4.17 in /usr/local/lib/python3.10/dist-packages (from requests->transformers) (2022.12.7)\n",
            "Requirement already satisfied: charset-normalizer~=2.0.0 in /usr/local/lib/python3.10/dist-packages (from requests->transformers) (2.0.12)\n",
            "Requirement already satisfied: idna<4,>=2.5 in /usr/local/lib/python3.10/dist-packages (from requests->transformers) (3.4)\n"
          ]
        }
      ],
      "source": [
        "pip install transformers"
      ]
    },
    {
      "cell_type": "code",
      "execution_count": null,
      "metadata": {
        "colab": {
          "base_uri": "https://localhost:8080/"
        },
        "id": "98i3Gi9XRdmm",
        "outputId": "148b6a05-565e-4d8d-e08b-2386937a4f0f"
      },
      "outputs": [
        {
          "output_type": "stream",
          "name": "stdout",
          "text": [
            "Looking in indexes: https://pypi.org/simple, https://us-python.pkg.dev/colab-wheels/public/simple/\n",
            "Requirement already satisfied: sentencepiece in /usr/local/lib/python3.10/dist-packages (0.1.99)\n"
          ]
        }
      ],
      "source": [
        "pip install sentencepiece"
      ]
    },
    {
      "cell_type": "code",
      "execution_count": null,
      "metadata": {
        "id": "JpuXh-a8Rdmn",
        "colab": {
          "base_uri": "https://localhost:8080/"
        },
        "outputId": "74b10885-0ef7-4993-8343-a267877e467a"
      },
      "outputs": [
        {
          "output_type": "execute_result",
          "data": {
            "text/plain": [
              "device(type='cpu')"
            ]
          },
          "metadata": {},
          "execution_count": 10
        }
      ],
      "source": [
        "import torch\n",
        "# Set the device\n",
        "device = torch.device('cuda' if torch.cuda.is_available() else 'cpu')\n",
        "device"
      ]
    },
    {
      "cell_type": "code",
      "execution_count": null,
      "metadata": {
        "id": "Vkx1XLPDRdmo"
      },
      "outputs": [],
      "source": [
        "import torch\n",
        "import pandas as pd\n",
        "from torch.utils.data import Dataset, DataLoader\n",
        "from transformers import T5Tokenizer, T5ForConditionalGeneration,Adafactor"
      ]
    },
    {
      "cell_type": "code",
      "execution_count": null,
      "metadata": {
        "id": "u2N7OXhgRdmo"
      },
      "outputs": [],
      "source": [
        "# Load the saved model\n",
        "# Load the tokenizer and model\n",
        "tokenizer = T5Tokenizer.from_pretrained('t5-small')\n",
        "model = T5ForConditionalGeneration.from_pretrained('t5-small')\n",
        "# Load the saved model weights into the initialized model\n",
        "model.load_state_dict(torch.load('T5_story_gen_key_30a.bin',map_location=torch.device('cpu')))\n",
        "model=model.to(device)"
      ]
    },
    {
      "cell_type": "code",
      "execution_count": null,
      "metadata": {
        "id": "-OTq_XJ-Rdmp",
        "colab": {
          "base_uri": "https://localhost:8080/",
          "height": 36
        },
        "outputId": "dcd3ad6b-d831-4b05-83d2-d3ceac1fe48d"
      },
      "outputs": [
        {
          "output_type": "execute_result",
          "data": {
            "text/plain": [
              "'A Walk in the Woods'"
            ],
            "application/vnd.google.colaboratory.intrinsic+json": {
              "type": "string"
            }
          },
          "metadata": {},
          "execution_count": 13
        }
      ],
      "source": [
        "train_df.iloc[1]['title']"
      ]
    },
    {
      "cell_type": "code",
      "execution_count": null,
      "metadata": {
        "id": "C2IUfXcvSEAc",
        "colab": {
          "base_uri": "https://localhost:8080/"
        },
        "outputId": "c3ff24f8-7c78-470f-e2c6-c6631c258211"
      },
      "outputs": [
        {
          "output_type": "stream",
          "name": "stderr",
          "text": [
            "Token indices sequence length is longer than the specified maximum sequence length for this model (1190 > 512). Running this sequence through the model will result in indexing errors\n"
          ]
        }
      ],
      "source": [
        "test_df=train_df[280:]\n",
        "predicted_text=[]\n",
        "for i in range(len(test_df)):\n",
        "    title= test_df.iloc[i]['title']\n",
        "    key=test_df.iloc[i]['keywords']\n",
        "    cls=test_df.iloc[i]['class']\n",
        "    # Set the input string\n",
        "    input_str=\"<title> \"+ title + \" <keywords> \" + \",\".join(key) +'<class> ' + cls\n",
        "    max_length=300\n",
        "    # Tokenize the input string\n",
        "    input_ids = tokenizer.encode(input_str, return_tensors='pt')\n",
        "    input_ids = input_ids.to(device)\n",
        "    # Generate the output\n",
        "    output_ids = model.generate(input_ids,max_length=max_length)\n",
        "\n",
        "    # Decode the output\n",
        "    output_str = tokenizer.decode(output_ids[0], skip_special_tokens=True)\n",
        "    predicted_text.append(output_str)\n",
        "    # Print the output\n",
        "    #(output_str)"
      ]
    },
    {
      "cell_type": "code",
      "execution_count": null,
      "metadata": {
        "id": "T1UrwIdIU52J",
        "colab": {
          "base_uri": "https://localhost:8080/"
        },
        "outputId": "acd93e8c-2aab-41d3-ba92-96e24980368f"
      },
      "outputs": [
        {
          "output_type": "stream",
          "name": "stdout",
          "text": [
            "UTF-8\n"
          ]
        }
      ],
      "source": [
        "import locale\n",
        "\n",
        "def getpreferredencoding(do_setlocale = True):\n",
        "    return \"UTF-8\"\n",
        "locale.getpreferredencoding = getpreferredencoding\n",
        "print(locale.getpreferredencoding())"
      ]
    },
    {
      "cell_type": "code",
      "execution_count": null,
      "metadata": {
        "id": "QSb-aKH4SPcJ"
      },
      "outputs": [],
      "source": [
        "# !pip install rouge"
      ]
    },
    {
      "cell_type": "code",
      "execution_count": null,
      "metadata": {
        "colab": {
          "base_uri": "https://localhost:8080/"
        },
        "id": "1aRbejRGSD9X",
        "outputId": "13e3bb6a-9002-4b38-dead-ac228c1f10af"
      },
      "outputs": [
        {
          "name": "stdout",
          "output_type": "stream",
          "text": [
            "0.23655913527112968\n",
            "0.16144974911252313\n",
            "0.2509505659809308\n",
            "0.26055045447932\n",
            "0.22119815211694888\n",
            "0.28930817123432623\n",
            "0.1893491074262107\n",
            "0.17989417578256184\n",
            "0.2103658498041066\n",
            "0.3009404339540689\n",
            "0.06349206166671711\n",
            "0.19393938915169895\n",
            "0.2166666616791668\n",
            "0.24233128462442138\n",
            "0.2586206854643943\n",
            "0.24164523934708343\n",
            "0.2499999951652893\n",
            "0.2812499952870009\n",
            "0.2737642535552054\n",
            "0.2959641209723703\n",
            "0.2013129056010803\n",
            "0.2307692271345046\n",
            "0.19607842714148416\n"
          ]
        }
      ],
      "source": [
        "from rouge import Rouge\n",
        "roughe_scores=[]\n",
        "for i in range(len(predicted_text)):\n",
        "    reference = test_df.iloc[i]['story']\n",
        "    candidate = predicted_text[i]\n",
        "    rouge = Rouge()\n",
        "    scores = rouge.get_scores(candidate, reference)\n",
        "    rouge_score = scores[0]['rouge-l']['f']\n",
        "    print(rouge_score)\n",
        "    roughe_scores.append(rouge_score)"
      ]
    },
    {
      "cell_type": "code",
      "execution_count": null,
      "metadata": {
        "id": "0LHk3VtwSD3F"
      },
      "outputs": [],
      "source": [
        "from nltk.translate.bleu_score import sentence_bleu, corpus_bleu\n",
        "belu_scores=[]\n",
        "for i in range(len(predicted_text)):\n",
        "    reference = [test_df.iloc[i]['story']]\n",
        "    candidate = predicted_text[i] \n",
        "    self_bleu = sentence_bleu(reference, candidate)\n",
        "    #print('self_bleu---',self_bleu)\n",
        "    belu_scores.append(self_bleu)\n"
      ]
    },
    {
      "cell_type": "code",
      "execution_count": null,
      "metadata": {
        "colab": {
          "base_uri": "https://localhost:8080/"
        },
        "id": "UgmL0iUaSDtn",
        "outputId": "3bb39efd-7609-4de4-9bc5-86be7e7fc6df"
      },
      "outputs": [
        {
          "name": "stdout",
          "output_type": "stream",
          "text": [
            "20b - Keywords\n",
            "Average Bleu Score: 0.25107623063655177\n",
            "Average Rough Score: 0.22810434965011056\n"
          ]
        }
      ],
      "source": [
        "print('20b - Keywords')\n",
        "average_belu_score= np.sum(belu_scores)/len(belu_scores)\n",
        "print('Average Bleu Score:',average_belu_score)\n",
        "avrage_rough_score=np.sum(roughe_scores)/len(roughe_scores)\n",
        "print('Average Rough Score:',avrage_rough_score)\n"
      ]
    },
    {
      "cell_type": "code",
      "execution_count": null,
      "metadata": {
        "colab": {
          "base_uri": "https://localhost:8080/",
          "height": 209
        },
        "id": "ZxGg5MOhgJTI",
        "outputId": "f4fcc377-9045-4bff-f260-5c5d2912b52f"
      },
      "outputs": [
        {
          "name": "stdout",
          "output_type": "stream",
          "text": [
            "Sabrina\n"
          ]
        },
        {
          "data": {
            "application/vnd.google.colaboratory.intrinsic+json": {
              "type": "string"
            },
            "text/plain": [
              "\"title> chapter one dindra leonord ran down old and new yorkshire. sheep were flocking from northeastern strife trees in the jungle. fourty masons, two yas, and two peddlers were all in search of healthy food. one of the shelters I spoke was that the people in the forest cared for them would face a harsh and harsh weather conditions. the animals welfare groups said there was a high risk factor in the situation. the coucous were very very happy Sabrina, his mother said in an owl, his mother said, her loving wife, all we blackened out the parcel and skimmeted the forests of old barn for five more minutes. do you know what the reason, car he called. do you think the three of us want to get the best breakfast in the forest? isnt this food is very good. do you know what you are looking for, sauntered for the unexpected. if you dont work in the forest? automakers started to draw out the suggested foodie packets? the public could ask invad. as the public could question the public. oh, well, jason asked in return, oh yes it was lunchtime. are you enjoying your trip, car hen and the people in the forest, said daniel., no, we shall bring food to our friend. she ate all the food and enjoyed the food of the forest. there are lot of things that trezree me? are you useless, she shouted. but women stay warm often work days and people just like me. there is a reason for this happen., jason stood to her knees and do you know what you are doing and whos job you've done, and all the other food., well, sabi shay said. you cant talk me tell me the story of your trip, said daniel., yes you are those people you have in common. but what is the matter matter to you. oh, the people in the forest care home? are you useless, i do not say you know what you are doing and keep up the excellent food you are waiting for help from the police for you, the police or the police confirm that the police\""
            ]
          },
          "execution_count": 142,
          "metadata": {},
          "output_type": "execute_result"
        }
      ],
      "source": [
        "i=0\n",
        "print(test_df.iloc[i]['class'])\n",
        "predicted_text[i]"
      ]
    },
    {
      "cell_type": "code",
      "execution_count": null,
      "metadata": {
        "colab": {
          "base_uri": "https://localhost:8080/"
        },
        "id": "CnkvYwMkbtM_",
        "outputId": "4ecde110-92ee-498e-b9e8-3e66ffd76485"
      },
      "outputs": [
        {
          "output_type": "stream",
          "name": "stdout",
          "text": [
            "Looking in indexes: https://pypi.org/simple, https://us-python.pkg.dev/colab-wheels/public/simple/\n",
            "Requirement already satisfied: language_tool_python in /usr/local/lib/python3.10/dist-packages (2.7.1)\n",
            "Requirement already satisfied: requests in /usr/local/lib/python3.10/dist-packages (from language_tool_python) (2.27.1)\n",
            "Requirement already satisfied: tqdm in /usr/local/lib/python3.10/dist-packages (from language_tool_python) (4.65.0)\n",
            "Requirement already satisfied: urllib3<1.27,>=1.21.1 in /usr/local/lib/python3.10/dist-packages (from requests->language_tool_python) (1.26.15)\n",
            "Requirement already satisfied: certifi>=2017.4.17 in /usr/local/lib/python3.10/dist-packages (from requests->language_tool_python) (2022.12.7)\n",
            "Requirement already satisfied: charset-normalizer~=2.0.0 in /usr/local/lib/python3.10/dist-packages (from requests->language_tool_python) (2.0.12)\n",
            "Requirement already satisfied: idna<4,>=2.5 in /usr/local/lib/python3.10/dist-packages (from requests->language_tool_python) (3.4)\n"
          ]
        }
      ],
      "source": [
        "pip install language_tool_python"
      ]
    },
    {
      "cell_type": "code",
      "execution_count": null,
      "metadata": {
        "id": "JRVoPSZRlm-j"
      },
      "outputs": [],
      "source": [
        "import language_tool_python\n",
        "\n",
        "def calculate_grammar_score(text):\n",
        "    tool = language_tool_python.LanguageTool('en-US')\n",
        "    matches = tool.check(text)\n",
        "    score = 1 - len(matches) / len(text.split())\n",
        "    return score\n",
        "GRAM=[]\n",
        "for i in range(len(predicted_text)):\n",
        "  score = calculate_grammar_score(predicted_text[i])\n",
        "  print(\"Grammar Score:\", score)\n",
        "  GRAM.append(score)"
      ]
    },
    {
      "cell_type": "code",
      "execution_count": null,
      "metadata": {
        "colab": {
          "base_uri": "https://localhost:8080/"
        },
        "id": "3tLE8T5leNkg",
        "outputId": "2dc1e85a-8e43-4c21-c259-0c5d6c5b77b0"
      },
      "outputs": [
        {
          "data": {
            "text/plain": [
              "0.8659777403785307"
            ]
          },
          "execution_count": 20,
          "metadata": {},
          "output_type": "execute_result"
        }
      ],
      "source": []
    },
    {
      "cell_type": "code",
      "execution_count": null,
      "metadata": {
        "id": "_x3NVvtWecs5"
      },
      "outputs": [],
      "source": [
        "print('20b')\n",
        "import numpy as np\n",
        "gram_score=np.sum(GRAM)/len(GRAM)\n",
        "gram_score\n"
      ]
    }
  ],
  "metadata": {
    "accelerator": "GPU",
    "colab": {
      "provenance": []
    },
    "gpuClass": "standard",
    "kernelspec": {
      "display_name": "Python 3",
      "name": "python3"
    },
    "language_info": {
      "name": "python"
    }
  },
  "nbformat": 4,
  "nbformat_minor": 0
}