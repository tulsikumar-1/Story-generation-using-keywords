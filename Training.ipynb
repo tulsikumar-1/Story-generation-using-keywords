{
  "nbformat": 4,
  "nbformat_minor": 0,
  "metadata": {
    "colab": {
      "provenance": [],
      "gpuType": "T4"
    },
    "kernelspec": {
      "name": "python3",
      "display_name": "Python 3"
    },
    "language_info": {
      "name": "python"
    },
    "accelerator": "GPU",
    "gpuClass": "standard"
  },
  "cells": [
    {
      "cell_type": "code",
      "execution_count": null,
      "metadata": {
        "colab": {
          "base_uri": "https://localhost:8080/"
        },
        "id": "MW4i1iO-kN_J",
        "outputId": "e93bdc0f-4785-4986-ddf5-673fd416a5d1"
      },
      "outputs": [
        {
          "output_type": "stream",
          "name": "stdout",
          "text": [
            "Mounted at /content/drive\n"
          ]
        }
      ],
      "source": [
        "import os\n",
        "import pandas as pd\n",
        "import numpy as np\n",
        "from google.colab import drive\n",
        "drive.mount('/content/drive')"
      ]
    },
    {
      "cell_type": "code",
      "source": [
        "import os\n",
        "path= '/content/drive/MyDrive/news dataset/children stories/scraped/'\n",
        "os.chdir(path)"
      ],
      "metadata": {
        "id": "K34viFapkRfZ"
      },
      "execution_count": null,
      "outputs": []
    },
    {
      "cell_type": "code",
      "source": [
        "train_df = pd.read_csv('dataset_with_keys_15b.csv')"
      ],
      "metadata": {
        "id": "zQzHa2A9kRdA"
      },
      "execution_count": null,
      "outputs": []
    },
    {
      "cell_type": "code",
      "source": [
        "train_df[:1]"
      ],
      "metadata": {
        "colab": {
          "base_uri": "https://localhost:8080/",
          "height": 142
        },
        "id": "vkhdiCNJk6As",
        "outputId": "75557aaf-4813-409b-95e4-768f121389f3"
      },
      "execution_count": null,
      "outputs": [
        {
          "output_type": "execute_result",
          "data": {
            "text/plain": [
              "                 title                                              story  \\\n",
              "0  On the go with Zibo  zibo is a little zebra. you know what a zebra ...   \n",
              "\n",
              "       class                                           url  \\\n",
              "0  adventure  https://www.bedtime.com/on-the-go-with-zibo/   \n",
              "\n",
              "                                            keywords  \\\n",
              "0  ['zibo', 'animal', 'give', 'zebra', 'cow', 'st...   \n",
              "\n",
              "                                          key_scores  \n",
              "0  [0.025387348146749516, 0.09251316835653439, 0....  "
            ],
            "text/html": [
              "\n",
              "  <div id=\"df-33728fba-2990-4cbf-a2fd-b52d6bc588bb\">\n",
              "    <div class=\"colab-df-container\">\n",
              "      <div>\n",
              "<style scoped>\n",
              "    .dataframe tbody tr th:only-of-type {\n",
              "        vertical-align: middle;\n",
              "    }\n",
              "\n",
              "    .dataframe tbody tr th {\n",
              "        vertical-align: top;\n",
              "    }\n",
              "\n",
              "    .dataframe thead th {\n",
              "        text-align: right;\n",
              "    }\n",
              "</style>\n",
              "<table border=\"1\" class=\"dataframe\">\n",
              "  <thead>\n",
              "    <tr style=\"text-align: right;\">\n",
              "      <th></th>\n",
              "      <th>title</th>\n",
              "      <th>story</th>\n",
              "      <th>class</th>\n",
              "      <th>url</th>\n",
              "      <th>keywords</th>\n",
              "      <th>key_scores</th>\n",
              "    </tr>\n",
              "  </thead>\n",
              "  <tbody>\n",
              "    <tr>\n",
              "      <th>0</th>\n",
              "      <td>On the go with Zibo</td>\n",
              "      <td>zibo is a little zebra. you know what a zebra ...</td>\n",
              "      <td>adventure</td>\n",
              "      <td>https://www.bedtime.com/on-the-go-with-zibo/</td>\n",
              "      <td>['zibo', 'animal', 'give', 'zebra', 'cow', 'st...</td>\n",
              "      <td>[0.025387348146749516, 0.09251316835653439, 0....</td>\n",
              "    </tr>\n",
              "  </tbody>\n",
              "</table>\n",
              "</div>\n",
              "      <button class=\"colab-df-convert\" onclick=\"convertToInteractive('df-33728fba-2990-4cbf-a2fd-b52d6bc588bb')\"\n",
              "              title=\"Convert this dataframe to an interactive table.\"\n",
              "              style=\"display:none;\">\n",
              "        \n",
              "  <svg xmlns=\"http://www.w3.org/2000/svg\" height=\"24px\"viewBox=\"0 0 24 24\"\n",
              "       width=\"24px\">\n",
              "    <path d=\"M0 0h24v24H0V0z\" fill=\"none\"/>\n",
              "    <path d=\"M18.56 5.44l.94 2.06.94-2.06 2.06-.94-2.06-.94-.94-2.06-.94 2.06-2.06.94zm-11 1L8.5 8.5l.94-2.06 2.06-.94-2.06-.94L8.5 2.5l-.94 2.06-2.06.94zm10 10l.94 2.06.94-2.06 2.06-.94-2.06-.94-.94-2.06-.94 2.06-2.06.94z\"/><path d=\"M17.41 7.96l-1.37-1.37c-.4-.4-.92-.59-1.43-.59-.52 0-1.04.2-1.43.59L10.3 9.45l-7.72 7.72c-.78.78-.78 2.05 0 2.83L4 21.41c.39.39.9.59 1.41.59.51 0 1.02-.2 1.41-.59l7.78-7.78 2.81-2.81c.8-.78.8-2.07 0-2.86zM5.41 20L4 18.59l7.72-7.72 1.47 1.35L5.41 20z\"/>\n",
              "  </svg>\n",
              "      </button>\n",
              "      \n",
              "  <style>\n",
              "    .colab-df-container {\n",
              "      display:flex;\n",
              "      flex-wrap:wrap;\n",
              "      gap: 12px;\n",
              "    }\n",
              "\n",
              "    .colab-df-convert {\n",
              "      background-color: #E8F0FE;\n",
              "      border: none;\n",
              "      border-radius: 50%;\n",
              "      cursor: pointer;\n",
              "      display: none;\n",
              "      fill: #1967D2;\n",
              "      height: 32px;\n",
              "      padding: 0 0 0 0;\n",
              "      width: 32px;\n",
              "    }\n",
              "\n",
              "    .colab-df-convert:hover {\n",
              "      background-color: #E2EBFA;\n",
              "      box-shadow: 0px 1px 2px rgba(60, 64, 67, 0.3), 0px 1px 3px 1px rgba(60, 64, 67, 0.15);\n",
              "      fill: #174EA6;\n",
              "    }\n",
              "\n",
              "    [theme=dark] .colab-df-convert {\n",
              "      background-color: #3B4455;\n",
              "      fill: #D2E3FC;\n",
              "    }\n",
              "\n",
              "    [theme=dark] .colab-df-convert:hover {\n",
              "      background-color: #434B5C;\n",
              "      box-shadow: 0px 1px 3px 1px rgba(0, 0, 0, 0.15);\n",
              "      filter: drop-shadow(0px 1px 2px rgba(0, 0, 0, 0.3));\n",
              "      fill: #FFFFFF;\n",
              "    }\n",
              "  </style>\n",
              "\n",
              "      <script>\n",
              "        const buttonEl =\n",
              "          document.querySelector('#df-33728fba-2990-4cbf-a2fd-b52d6bc588bb button.colab-df-convert');\n",
              "        buttonEl.style.display =\n",
              "          google.colab.kernel.accessAllowed ? 'block' : 'none';\n",
              "\n",
              "        async function convertToInteractive(key) {\n",
              "          const element = document.querySelector('#df-33728fba-2990-4cbf-a2fd-b52d6bc588bb');\n",
              "          const dataTable =\n",
              "            await google.colab.kernel.invokeFunction('convertToInteractive',\n",
              "                                                     [key], {});\n",
              "          if (!dataTable) return;\n",
              "\n",
              "          const docLinkHtml = 'Like what you see? Visit the ' +\n",
              "            '<a target=\"_blank\" href=https://colab.research.google.com/notebooks/data_table.ipynb>data table notebook</a>'\n",
              "            + ' to learn more about interactive tables.';\n",
              "          element.innerHTML = '';\n",
              "          dataTable['output_type'] = 'display_data';\n",
              "          await google.colab.output.renderOutput(dataTable, element);\n",
              "          const docLink = document.createElement('div');\n",
              "          docLink.innerHTML = docLinkHtml;\n",
              "          element.appendChild(docLink);\n",
              "        }\n",
              "      </script>\n",
              "    </div>\n",
              "  </div>\n",
              "  "
            ]
          },
          "metadata": {},
          "execution_count": 4
        }
      ]
    },
    {
      "cell_type": "code",
      "source": [
        "!pip install transformers\n",
        "!pip install sentencepiece"
      ],
      "metadata": {
        "id": "cDjXPyCekRP7"
      },
      "execution_count": null,
      "outputs": []
    },
    {
      "cell_type": "code",
      "source": [],
      "metadata": {
        "id": "jHbxXnIqBcFo"
      },
      "execution_count": null,
      "outputs": []
    },
    {
      "cell_type": "code",
      "source": [
        "import torch\n",
        "import pandas as pd\n",
        "from torch.utils.data import Dataset, DataLoader\n",
        "from transformers import T5Tokenizer, T5ForConditionalGeneration,Adafactor\n",
        "# Define your custom dataset\n",
        "class MyDataset(Dataset):\n",
        "    def __init__(self, dataframe, tokenizer):\n",
        "        self.data = dataframe\n",
        "        self.tokenizer = tokenizer\n",
        "        \n",
        "    def __len__(self):\n",
        "        return len(self.data)\n",
        "\n",
        "    def __getitem__(self, index):\n",
        "        row = self.data.iloc[index]\n",
        "        input_str = \"<title> \"+ row['title'] + \" <keywords> \" + \",\".join(row['key']) +'<class> ' + row['class']\n",
        "        labels = row['story']\n",
        "        \n",
        "        # tokenize the input string and label\n",
        "        input_encoding = self.tokenizer.encode_plus(\n",
        "            input_str,\n",
        "            max_length=100,\n",
        "            padding='max_length',\n",
        "            truncation=True,\n",
        "            return_tensors='pt'\n",
        "        )\n",
        "        label_encoding = self.tokenizer.encode_plus(\n",
        "            labels,\n",
        "            max_length=2000,\n",
        "            padding='max_length',\n",
        "            truncation=True,\n",
        "            return_tensors='pt'\n",
        "        )\n",
        "        \n",
        "        # return a dictionary of input and label tensors\n",
        "        return {\n",
        "            'input_ids': input_encoding['input_ids'].flatten(),\n",
        "            'attention_mask': input_encoding['attention_mask'].flatten(),\n",
        "            'labels': label_encoding['input_ids'].flatten()\n",
        "        }"
      ],
      "metadata": {
        "id": "Ye-WMvnZs3b7"
      },
      "execution_count": null,
      "outputs": []
    },
    {
      "cell_type": "code",
      "source": [
        "# Set the device\n",
        "device = torch.device('cuda' if torch.cuda.is_available() else 'cpu')\n",
        "device"
      ],
      "metadata": {
        "id": "muNDfsUSs_B6"
      },
      "execution_count": null,
      "outputs": []
    },
    {
      "cell_type": "code",
      "source": [
        "# # Set the maximum size of each split to 200MB\n",
        "# max_split_size_mb = 200\n",
        "\n",
        "\n",
        "# Load the tokenizer and model\n",
        "tokenizer = T5Tokenizer.from_pretrained('t5-small')\n",
        "model = T5ForConditionalGeneration.from_pretrained('t5-small').to(device)"
      ],
      "metadata": {
        "id": "JysoWTiOtKwX"
      },
      "execution_count": null,
      "outputs": []
    },
    {
      "cell_type": "code",
      "source": [
        "# Creating  DataLoader \n",
        "dataset = MyDataset(train_df[:280], tokenizer)\n",
        "# Set the batch size and number of workers\n",
        "batch_size = 4\n",
        "num_workers = 2\n",
        "\n",
        "# Create your DataLoader\n",
        "dataloader = DataLoader(\n",
        "    dataset, batch_size=batch_size, shuffle=True,\n",
        "    num_workers=num_workers, pin_memory=True,\n",
        "    collate_fn=lambda examples: {'input_ids': torch.stack([x['input_ids'] for x in examples]),\n",
        "                                 'attention_mask': torch.stack([x['attention_mask'] for x in examples]),\n",
        "                                 'labels': torch.stack([x['labels'] for x in examples])}\n",
        ")"
      ],
      "metadata": {
        "id": "4on4KlOhtWZS"
      },
      "execution_count": null,
      "outputs": []
    },
    {
      "cell_type": "code",
      "source": [
        "num_of_epochs = 100\n",
        "optimizer = Adafactor(model.parameters(),lr=1e-3,\n",
        "                      eps=(1e-30, 1e-3),\n",
        "                      clip_threshold=1.0,\n",
        "                      decay_rate=-0.8,\n",
        "                      beta1=None,\n",
        "                      weight_decay=0.0,\n",
        "                      relative_step=False,\n",
        "                      scale_parameter=False,\n",
        "                      warmup_init=False)"
      ],
      "metadata": {
        "id": "0tJ0WB0RtWPP"
      },
      "execution_count": null,
      "outputs": []
    },
    {
      "cell_type": "code",
      "source": [
        "# Train the model\n",
        "for epoch in range(1, num_of_epochs + 1):\n",
        "    print('Running epoch: {}'.format(epoch))\n",
        "    running_loss = 0\n",
        "    for i, batch in enumerate(dataloader):\n",
        "        input_ids = batch['input_ids'].to(device)\n",
        "        labels = batch['labels'].to(device)\n",
        "\n",
        "        # Clear out the gradients of all Variables \n",
        "        optimizer.zero_grad()\n",
        "\n",
        "        # Forward propagation\n",
        "        outputs = model(input_ids=input_ids, labels=labels)\n",
        "        loss = outputs.loss\n",
        "\n",
        "        # Backward propagation\n",
        "        loss.backward()\n",
        "\n",
        "        # Update the parameters\n",
        "        optimizer.step()\n",
        "\n",
        "        running_loss += loss.item()\n",
        "\n",
        "    running_loss /= len(dataloader)\n",
        "    print('Epoch: {}, Running loss: {}'.format(epoch, running_loss))"
      ],
      "metadata": {
        "id": "n_DgkHXxtWFh"
      },
      "execution_count": null,
      "outputs": []
    },
    {
      "cell_type": "code",
      "source": [
        "torch.save(model.state_dict(),'T5_story_gen_key.bin')"
      ],
      "metadata": {
        "id": "GYJZtS5zTPRg"
      },
      "execution_count": null,
      "outputs": []
    },
    {
      "cell_type": "code",
      "source": [
        "train_df.iloc[1]['title']"
      ],
      "metadata": {
        "id": "CqYPk9Gxwrz6"
      },
      "execution_count": null,
      "outputs": []
    },
    {
      "cell_type": "code",
      "source": [
        "title= 'A good friend'\n",
        "key='tulsi,winner, played games, forest,winter,tulsi knows,mobile, animals, sky, books, star and moon, morning sunshine,soil on floor'\n",
        "cls='adventure'"
      ],
      "metadata": {
        "id": "QKCyaCNW367i"
      },
      "execution_count": null,
      "outputs": []
    },
    {
      "cell_type": "code",
      "source": [
        "# Set the input string\n",
        "input_str = \"<title> \"+ title + \" <keywords> \" + \",\".join(key) +'<class> ' + cls\n",
        "max_length=200\n",
        "# Tokenize the input string\n",
        "input_ids = tokenizer.encode(input_str, return_tensors='pt')\n",
        "input_ids = input_ids.to(device)\n",
        "# Generate the output\n",
        "output_ids = model.generate(input_ids,max_length=max_length)\n",
        "\n",
        "# Decode the output\n",
        "output_str = tokenizer.decode(output_ids[0], skip_special_tokens=True)\n",
        "\n",
        "# Print the output\n",
        "(output_str)"
      ],
      "metadata": {
        "colab": {
          "base_uri": "https://localhost:8080/",
          "height": 104
        },
        "id": "snvTq_UNwZWc",
        "outputId": "1793fd9f-0ee4-45ce-ebab-1751468c0dea"
      },
      "execution_count": null,
      "outputs": [
        {
          "output_type": "execute_result",
          "data": {
            "text/plain": [
              "'one good friend tulsi,winner, played games, forest,winter,tulsi knows,mobile, sports, tennis, hockey, hockey, hockey, hockey, hockey, hockey, hockey, hockey, hockey, hockey, hockey, hockey, hockey, hockey, hockey, hockey, hockey, hockey, hockey, hockey, hockey, hockey, hockey, hockey, snowboarding, snowboarding etc. tulsi is a good friend tulsi,winner,winner,winner,winner,winner was a good friend tulsi, who loves to play games, watched snow falling from the stars sky, sky, sky, sky, sky, mountains, and even visited boulders., there are many many varieties of games, stone to choose between,winner and the prizes will be presented for the evening., as a good friend tulsi watched the video games on the floor adventure.,'"
            ],
            "application/vnd.google.colaboratory.intrinsic+json": {
              "type": "string"
            }
          },
          "metadata": {},
          "execution_count": 15
        }
      ]
    }
  ]
}